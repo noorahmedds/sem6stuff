{
 "cells": [
  {
   "cell_type": "code",
   "execution_count": 96,
   "metadata": {
    "collapsed": true
   },
   "outputs": [],
   "source": [
    "import random"
   ]
  },
  {
   "cell_type": "code",
   "execution_count": 97,
   "metadata": {},
   "outputs": [],
   "source": [
    "import numpy as np"
   ]
  },
  {
   "cell_type": "code",
   "execution_count": 182,
   "metadata": {},
   "outputs": [],
   "source": [
    "def selectRandomly(arr, hm):\n",
    "    arr_size = len(arr)\n",
    "    r_indices = [random.randint(0, arr_size-1) for i in range(0, hm)]\n",
    "    my_random = []\n",
    "    for i in r_indices:\n",
    "        my_random.append(arr[i])\n",
    "    \n",
    "#     print (my_random)\n",
    "    return my_random"
   ]
  },
  {
   "cell_type": "code",
   "execution_count": 183,
   "metadata": {},
   "outputs": [],
   "source": [
    "def selectMedian(arr):\n",
    "    return np.median(arr)"
   ]
  },
  {
   "cell_type": "code",
   "execution_count": 204,
   "metadata": {
    "collapsed": true
   },
   "outputs": [],
   "source": [
    "def splitType(arr, split_number):\n",
    "    _ = arr.copy()\n",
    "    _.sort()\n",
    "    split_index = _.index(split_number)\n",
    "    \n",
    "    arr_size = len(arr)\n",
    "    \n",
    "    if (int(arr_size*0.75) > split_index > int(arr_size*0.25)):\n",
    "#         print (\"GoodSplit\")\n",
    "        return 1\n",
    "    else:\n",
    "#         print (\"BadSplit\")\n",
    "        return 0"
   ]
  },
  {
   "cell_type": "code",
   "execution_count": 197,
   "metadata": {
    "collapsed": true
   },
   "outputs": [],
   "source": [
    "def one_hot_array(arr_, hm, sample_n = 500):\n",
    "    splits = [selectMedian(selectRandomly(arr_, hm)) for i in range(0, sample_n)]\n",
    "    return [splitType(arr_,split) for split in splits]"
   ]
  },
  {
   "cell_type": "code",
   "execution_count": 186,
   "metadata": {
    "collapsed": true
   },
   "outputs": [],
   "source": [
    "%matplotlib inline\n",
    "import matplotlib.pyplot as plt"
   ]
  },
  {
   "cell_type": "code",
   "execution_count": 187,
   "metadata": {},
   "outputs": [],
   "source": [
    "def count_good_splits(k, arr_size):\n",
    "    count = 0\n",
    "    for i in range(0, arr_size):\n",
    "        if (k[i] == 1):\n",
    "            count+=1\n",
    "    return (count)"
   ]
  },
  {
   "cell_type": "code",
   "execution_count": 219,
   "metadata": {
    "collapsed": true
   },
   "outputs": [],
   "source": [
    "def probability():\n",
    "    arr_size = 500\n",
    "    arr = [random.randint(0, arr_size) for i in range(0, arr_size)]\n",
    "    k = one_hot_array(arr, 11, arr_size)\n",
    "    return (count_good_splits(k, arr_size)/arr_size * 100)"
   ]
  },
  {
   "cell_type": "code",
   "execution_count": 230,
   "metadata": {},
   "outputs": [
    {
     "name": "stdout",
     "output_type": "stream",
     "text": [
      "The probability of a good split is:  94 %\n"
     ]
    }
   ],
   "source": [
    "print(\"The probability of a good split is: \", int(probability()), '%')"
   ]
  },
  {
   "cell_type": "code",
   "execution_count": null,
   "metadata": {
    "collapsed": true
   },
   "outputs": [],
   "source": []
  }
 ],
 "metadata": {
  "kernelspec": {
   "display_name": "Python 3",
   "language": "python",
   "name": "python3"
  },
  "language_info": {
   "codemirror_mode": {
    "name": "ipython",
    "version": 3
   },
   "file_extension": ".py",
   "mimetype": "text/x-python",
   "name": "python",
   "nbconvert_exporter": "python",
   "pygments_lexer": "ipython3",
   "version": "3.6.1"
  }
 },
 "nbformat": 4,
 "nbformat_minor": 2
}
